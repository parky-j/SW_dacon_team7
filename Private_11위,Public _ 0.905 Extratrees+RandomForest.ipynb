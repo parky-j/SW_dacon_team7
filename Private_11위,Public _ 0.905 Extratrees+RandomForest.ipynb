{
 "cells": [
  {
   "cell_type": "code",
   "execution_count": 1,
   "id": "f2dcd0e0",
   "metadata": {
    "id": "f2dcd0e0"
   },
   "outputs": [],
   "source": [
    "import numpy as np\n",
    "import pandas as pd\n",
    "import warnings\n",
    "from sklearn.ensemble import RandomForestClassifier\n",
    "from sklearn.ensemble import ExtraTreesClassifier\n",
    "\n",
    "warnings.filterwarnings('ignore')"
   ]
  },
  {
   "cell_type": "markdown",
   "id": "298e2444",
   "metadata": {
    "id": "298e2444"
   },
   "source": [
    "## 데이터셋 로드"
   ]
  },
  {
   "cell_type": "code",
   "execution_count": 2,
   "id": "97c68d1b",
   "metadata": {
    "id": "97c68d1b",
    "scrolled": true
   },
   "outputs": [],
   "source": [
    "train = pd.read_csv('./train.csv')\n",
    "test = pd.read_csv('./test.csv')\n",
    "submission = pd.read_csv('./sample_submission.csv')"
   ]
  },
  {
   "cell_type": "code",
   "execution_count": 3,
   "id": "b76d7cc6",
   "metadata": {
    "id": "b76d7cc6",
    "scrolled": true
   },
   "outputs": [],
   "source": [
    "target = train['nerdiness']\n",
    "train.drop(['nerdiness'], axis=1, inplace=True)"
   ]
  },
  {
   "cell_type": "markdown",
   "id": "aa86304f",
   "metadata": {
    "id": "aa86304f"
   },
   "source": [
    "## Feature 전처리"
   ]
  },
  {
   "cell_type": "code",
   "execution_count": 4,
   "id": "f89a9cd7",
   "metadata": {
    "id": "f89a9cd7"
   },
   "outputs": [],
   "source": [
    "# country 콜럼 제거\n",
    "train = train.drop(columns='country')\n",
    "test = test.drop(columns='country')"
   ]
  },
  {
   "cell_type": "markdown",
   "id": "55c81d56",
   "metadata": {
    "id": "J8VOQ6iH8CtG"
   },
   "source": [
    "1. 이상치 처리"
   ]
  },
  {
   "cell_type": "code",
   "execution_count": 5,
   "id": "9728b7c4",
   "metadata": {
    "id": "9728b7c4"
   },
   "outputs": [],
   "source": [
    "# 이상치 처리\n",
    "# familysize는 14명 이상을 이상치로 결정해 대체\n",
    "# age 또한 100세 이상을 이상치로 보아 최빈값으로 대체\n",
    "\n",
    "train.loc[train['familysize'] > 14, 'familysize'] = 14\n",
    "train.loc[train['age'] > 100, 'age'] = train['age'].mode()[0]\n",
    "\n",
    "test.loc[test['familysize'] > 14, 'familysize'] = 14\n",
    "test.loc[test['age'] > 100, 'age'] = train['age'].mode()[0]"
   ]
  },
  {
   "cell_type": "markdown",
   "id": "6287c919",
   "metadata": {
    "id": "J8VOQ6iH8CtG"
   },
   "source": [
    "2. 결측치 처리"
   ]
  },
  {
   "cell_type": "code",
   "execution_count": 6,
   "id": "5f97ad46",
   "metadata": {
    "id": "5f97ad46"
   },
   "outputs": [],
   "source": [
    "# 결측치에 대한 처리. train 데이터셋의 최빈값으로 대체.\n",
    "\n",
    "train.loc[train['education'] != train['education'], 'education'] = train['education'].mode()[0]\n",
    "train.loc[train['urban'] != train['urban'], 'urban'] = train['urban'].mode()[0]\n",
    "train.loc[train['engnat'] != train['engnat'], 'engnat'] = train['engnat'].mode()[0]\n",
    "train.loc[train['age'] != train['age'], 'age'] = train['age'].mode()[0]\n",
    "train.loc[train['religion'] != train['religion'], 'religion'] = train['religion'].mode()[0]\n",
    "train.loc[train['voted'] != train['voted'], 'voted'] = train['voted'].mode()[0]\n",
    "train.loc[train['orientation'] != train['orientation'], 'orientation'] = train['orientation'].mode()[0]\n",
    "train.loc[train['familysize'] != train['familysize'], 'familysize'] = train['familysize'].mode()[0]\n",
    "train.loc[train['gender'] != train['gender'], 'gender'] = train['gender'].mode()[0]\n",
    "train.loc[train['married'] != train['married'], 'married'] = train['married'].mode()[0]\n",
    "train.loc[train['ASD'] != train['ASD'], 'ASD'] = train['ASD'].mode()[0]\n",
    "\n",
    "test.loc[test['education'] != test['education'], 'education'] = train['education'].mode()[0]\n",
    "test.loc[test['urban'] != test['urban'], 'urban'] = train['urban'].mode()[0]\n",
    "test.loc[test['engnat'] != test['engnat'], 'engnat'] = train['engnat'].mode()[0]\n",
    "test.loc[test['age'] != test['age'], 'age'] = train['age'].mode()[0]\n",
    "test.loc[test['religion'] != test['religion'], 'religion'] = train['religion'].mode()[0]\n",
    "test.loc[test['voted'] != test['voted'], 'voted'] = train['voted'].mode()[0]\n",
    "test.loc[test['orientation'] != test['orientation'], 'orientation'] = train['orientation'].mode()[0]\n",
    "test.loc[test['familysize'] != test['familysize'], 'familysize'] = train['familysize'].mode()[0]\n",
    "test.loc[test['gender'] != test['gender'], 'gender'] = train['gender'].mode()[0]\n",
    "test.loc[test['married'] != test['married'], 'married'] = train['married'].mode()[0]\n",
    "test.loc[test['ASD'] != test['ASD'], 'ASD'] = train['ASD'].mode()[0]"
   ]
  },
  {
   "cell_type": "code",
   "execution_count": 7,
   "id": "7cf86454",
   "metadata": {
    "id": "7cf86454"
   },
   "outputs": [],
   "source": [
    "# Q 질문들의 결측치에 대하여 모두 2로 대체\n",
    "for i in range(1,27):\n",
    "    train.loc[train['Q'+str(i)] != train['Q'+str(i)], 'Q'+str(i)] = 2\n",
    "for i in range(1,27):\n",
    "    test.loc[test['Q'+str(i)] != test['Q'+str(i)], 'Q'+str(i)] = 2"
   ]
  },
  {
   "cell_type": "code",
   "execution_count": 8,
   "id": "2233ad8c",
   "metadata": {
    "id": "2233ad8c"
   },
   "outputs": [],
   "source": [
    "# 혹시 남아있을 수 있는 결측치 0으로 모두 대체\n",
    "train = train.fillna(0)\n",
    "test = test.fillna(0)"
   ]
  },
  {
   "cell_type": "code",
   "execution_count": 9,
   "id": "66fc1811",
   "metadata": {
    "colab": {
     "base_uri": "https://localhost:8080/"
    },
    "id": "66fc1811",
    "outputId": "b10dcc40-d4ec-4687-94b7-7a73044df1c9"
   },
   "outputs": [
    {
     "data": {
      "text/plain": [
       "index          0\n",
       "Q1             0\n",
       "Q2             0\n",
       "Q3             0\n",
       "Q4             0\n",
       "              ..\n",
       "orientation    0\n",
       "voted          0\n",
       "married        0\n",
       "familysize     0\n",
       "ASD            0\n",
       "Length: 68, dtype: int64"
      ]
     },
     "execution_count": 9,
     "metadata": {},
     "output_type": "execute_result"
    }
   ],
   "source": [
    "# 남아있는 결측치 있는지 다시한번 확인\n",
    "train.isnull().sum()"
   ]
  },
  {
   "cell_type": "markdown",
   "id": "lxh-3xCA8g04",
   "metadata": {
    "id": "lxh-3xCA8g04"
   },
   "source": [
    "3. feature engineering"
   ]
  },
  {
   "cell_type": "code",
   "execution_count": 10,
   "id": "b5b1af10",
   "metadata": {
    "id": "b5b1af10"
   },
   "outputs": [],
   "source": [
    "# VCL 테스트의 결과값 생성. 세상에 존재하지 않는 단어에 대해서는 스코어 계산에서 제외. \n",
    "# 세상에 존재하지 않는 단어를 두 개 이상 안다고 응답했을 경우, VCL 스코어를 최대치로 고정함.\n",
    "\n",
    "def score_vocab(df):\n",
    "    df['VCL_Score'] = (df['VCL1'] + df['VCL2'] + df['VCL3'] + df['VCL4'] + df['VCL5'] + df['VCL7']\n",
    "                         + df['VCL8'] + df['VCL10'] + df['VCL11'] + df['VCL13'] + df['VCL14']\n",
    "                         + df['VCL15'] + df['VCL16'] )\n",
    "    \n",
    "    df.loc[(df['VCL6'] == 1) & (df['VCL9'] == 1) & (df['VCL12'] == 1), 'VCL_Score' ] = 13\n",
    "    df.loc[(df['VCL6'] == 1) & (df['VCL9'] == 1), 'VCL_Score' ] = 13\n",
    "    df.loc[(df['VCL12'] == 1) & (df['VCL9'] == 1), 'VCL_Score' ] = 13\n",
    "    df.loc[(df['VCL6'] == 1) & (df['VCL12'] == 1), 'VCL_Score' ] = 13\n",
    "    return df\n",
    "\n",
    "train = score_vocab(train)\n",
    "test = score_vocab(test)"
   ]
  },
  {
   "cell_type": "code",
   "execution_count": 11,
   "id": "355c2b94",
   "metadata": {},
   "outputs": [],
   "source": [
    "#성격 유형 5가지로 분리\n",
    "train[['TIPI2','TIPI4','TIPI6','TIPI8','TIPI10']]= 6-train[['TIPI2','TIPI4','TIPI6','TIPI8','TIPI10']]\n",
    "\n",
    "train['TIPI_result1']=(train.TIPI1 + train.TIPI6)/2\n",
    "train['TIPI_result2']=(train.TIPI2 + train.TIPI7)/2\n",
    "train['TIPI_result3']=(train.TIPI3 + train.TIPI8)/2\n",
    "train['TIPI_result4']=(train.TIPI4 + train.TIPI9)/2\n",
    "train['TIPI_result5']=(train.TIPI5 + train.TIPI10)/2\n",
    "\n",
    "test[['TIPI2','TIPI4','TIPI6','TIPI8','TIPI10']]= 6-test[['TIPI2','TIPI4','TIPI6','TIPI8','TIPI10']]\n",
    "\n",
    "test['TIPI_result1']=(test.TIPI1 + test.TIPI6)/2\n",
    "test['TIPI_result2']=(test.TIPI2 + test.TIPI7)/2\n",
    "test['TIPI_result3']=(test.TIPI3 + test.TIPI8)/2\n",
    "test['TIPI_result4']=(test.TIPI4 + test.TIPI9)/2\n",
    "test['TIPI_result5']=(test.TIPI5 + test.TIPI10)/2"
   ]
  },
  {
   "cell_type": "code",
   "execution_count": 12,
   "id": "KU5pp36YKriZ",
   "metadata": {
    "id": "KU5pp36YKriZ"
   },
   "outputs": [],
   "source": [
    "# 응답시간 이분화 후 빠름/ 느림으로 1. 0 코딩\n",
    "mid= np.median(train['introelapse']) \n",
    "\n",
    "train['n_introelapse'] = np.where(train['introelapse']>mid,1,0)\n",
    "test['n_introelapse'] = np.where(test['introelapse']>mid,1,0)"
   ]
  },
  {
   "cell_type": "code",
   "execution_count": 13,
   "id": "T6ikulPcOHCI",
   "metadata": {
    "id": "T6ikulPcOHCI"
   },
   "outputs": [],
   "source": [
    "mid= np.median(train['testelapse']) \n",
    "\n",
    "train['n_testelapse'] = np.where(train['testelapse']>mid,1,0)\n",
    "test['n_testelapse'] = np.where(test['testelapse']>mid,1,0)"
   ]
  },
  {
   "cell_type": "code",
   "execution_count": 14,
   "id": "qGTcQwKILIo9",
   "metadata": {
    "id": "qGTcQwKILIo9"
   },
   "outputs": [],
   "source": [
    "mid= np.median(train['surveyelapse']) \n",
    "\n",
    "train['n_surveyelapse'] = np.where(train['surveyelapse']>mid,1,0)\n",
    "test['n_surveyelapse'] = np.where(test['surveyelapse']>mid,1,0)"
   ]
  },
  {
   "cell_type": "code",
   "execution_count": 15,
   "id": "93ef7af1",
   "metadata": {
    "id": "93ef7af1"
   },
   "outputs": [],
   "source": [
    "# nerdiness와 연관성이 높지 않다고 판단된 feature 제거\n",
    "train = train.drop('hand', axis=1)\\\n",
    ".drop('introelapse', axis=1)\\\n",
    ".drop('testelapse', axis=1)\\\n",
    ".drop('surveyelapse', axis=1)\n",
    "\n",
    "test = test.drop('hand', axis=1)\\\n",
    ".drop('introelapse', axis=1)\\\n",
    ".drop('testelapse', axis=1)\\\n",
    ".drop('surveyelapse', axis=1)"
   ]
  },
  {
   "cell_type": "code",
   "execution_count": 16,
   "id": "d97331e2",
   "metadata": {
    "id": "d97331e2"
   },
   "outputs": [],
   "source": [
    "# Q 질문에 대한 결과값 column 생성\n",
    "Q_columns = ['Q{}'.format(i) for i in range(1,27)]\n",
    "\n",
    "train['Q_score'] = train[Q_columns].sum(axis=1)\n",
    "test['Q_score'] = test[Q_columns].sum(axis=1)"
   ]
  },
  {
   "cell_type": "markdown",
   "id": "bbfde312",
   "metadata": {
    "id": "bbfde312"
   },
   "source": [
    "## Model"
   ]
  },
  {
   "cell_type": "code",
   "execution_count": 17,
   "id": "82593d75",
   "metadata": {
    "colab": {
     "base_uri": "https://localhost:8080/"
    },
    "id": "82593d75",
    "outputId": "9e080803-63ea-4eed-a620-8ffe72f24413",
    "scrolled": true
   },
   "outputs": [
    {
     "data": {
      "text/plain": [
       "(15000, 73)"
      ]
     },
     "execution_count": 17,
     "metadata": {},
     "output_type": "execute_result"
    }
   ],
   "source": [
    "X_train = train.loc[:, 'Q1':]\n",
    "X_test = test.loc[:, 'Q1':]\n",
    "y_train = target\n",
    "\n",
    "X_train.shape"
   ]
  },
  {
   "cell_type": "code",
   "execution_count": 18,
   "id": "293b3ee5",
   "metadata": {
    "id": "293b3ee5",
    "scrolled": true
   },
   "outputs": [],
   "source": [
    "rf_clf = RandomForestClassifier(n_estimators=3000, random_state=333)\n",
    "rf_clf.fit(X_train, y_train)\n",
    "rf_pred = rf_clf.predict_proba(X_test)[:, 1]"
   ]
  },
  {
   "cell_type": "code",
   "execution_count": 19,
   "id": "1af4df07",
   "metadata": {
    "id": "1af4df07"
   },
   "outputs": [],
   "source": [
    "et_clf = ExtraTreesClassifier(n_estimators=3000, random_state=3)\n",
    "et_clf.fit(X_train, y_train)\n",
    "et_pred = et_clf.predict_proba(X_test)[:, 1]"
   ]
  },
  {
   "cell_type": "code",
   "execution_count": 20,
   "id": "534b1eec",
   "metadata": {
    "id": "534b1eec"
   },
   "outputs": [],
   "source": [
    "y_preds = 0.7 * et_pred + 0.3 * rf_pred"
   ]
  },
  {
   "cell_type": "markdown",
   "id": "GXA7YyhgCuQb",
   "metadata": {
    "id": "GXA7YyhgCuQb"
   },
   "source": [
    "출력물"
   ]
  },
  {
   "cell_type": "code",
   "execution_count": 21,
   "id": "cb0c3503",
   "metadata": {
    "id": "cb0c3503"
   },
   "outputs": [],
   "source": [
    "submission['nerdiness'] = y_preds\n",
    "submission.to_csv('./ensemble_nl.csv', index=False)"
   ]
  },
  {
   "cell_type": "code",
   "execution_count": null,
   "id": "e4a37c77",
   "metadata": {},
   "outputs": [],
   "source": []
  }
 ],
 "metadata": {
  "colab": {
   "name": "0815: 0.90551 (수민)",
   "provenance": []
  },
  "kernelspec": {
   "display_name": "Python 3 (ipykernel)",
   "language": "python",
   "name": "python3"
  },
  "language_info": {
   "codemirror_mode": {
    "name": "ipython",
    "version": 3
   },
   "file_extension": ".py",
   "mimetype": "text/x-python",
   "name": "python",
   "nbconvert_exporter": "python",
   "pygments_lexer": "ipython3",
   "version": "3.9.7"
  }
 },
 "nbformat": 4,
 "nbformat_minor": 5
}
